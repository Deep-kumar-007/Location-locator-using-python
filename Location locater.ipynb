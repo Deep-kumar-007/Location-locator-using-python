{
 "cells": [
  {
   "cell_type": "code",
   "execution_count": 4,
   "id": "387fc129",
   "metadata": {},
   "outputs": [
    {
     "name": "stdout",
     "output_type": "stream",
     "text": [
      "Enter Your City Name: jaipur\n",
      "Address: Jaipur, Jaipur Municipal Corporation, Jaipur Tehsil, Jaipur District, Rajasthan, 302001, India\n",
      "latitude: 26.9154576\n",
      "longitude: 75.8189817\n"
     ]
    }
   ],
   "source": [
    "import geopy\n",
    "from geopy.geocoders import Nominatim\n",
    "\n",
    "\n",
    "geolocator = Nominatim(user_agent=\"GetLoc\")\n",
    "\n",
    "location=geolocator.geocode(input(\"Enter Your City Name: \"))\n",
    "\n",
    "\n",
    "\n",
    "\n",
    "if location:\n",
    "    print(f\"Address:\", location.address)\n",
    "    print(f\"latitude:\", location.latitude)\n",
    "    print(f\"longitude:\", location.longitude)\n",
    "else:\n",
    "    print(\"Location not found.\")"
   ]
  },
  {
   "cell_type": "code",
   "execution_count": null,
   "id": "e4093f8d",
   "metadata": {},
   "outputs": [],
   "source": []
  }
 ],
 "metadata": {
  "kernelspec": {
   "display_name": "Python 3 (ipykernel)",
   "language": "python",
   "name": "python3"
  },
  "language_info": {
   "codemirror_mode": {
    "name": "ipython",
    "version": 3
   },
   "file_extension": ".py",
   "mimetype": "text/x-python",
   "name": "python",
   "nbconvert_exporter": "python",
   "pygments_lexer": "ipython3",
   "version": "3.10.9"
  }
 },
 "nbformat": 4,
 "nbformat_minor": 5
}
